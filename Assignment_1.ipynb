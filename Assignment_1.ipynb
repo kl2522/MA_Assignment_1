{
 "cells": [
  {
   "cell_type": "markdown",
   "metadata": {},
   "source": [
    "# Assignment 1\n",
    "### Richard Wang, Yuanfan Lai, Laurinda He and Kun Liu"
   ]
  },
  {
   "cell_type": "markdown",
   "metadata": {},
   "source": [
    "# Part 0: Preliminary Data Analysis"
   ]
  },
  {
   "cell_type": "code",
   "execution_count": 68,
   "metadata": {},
   "outputs": [],
   "source": [
    "import pandas as pd\n",
    "import math"
   ]
  },
  {
   "cell_type": "code",
   "execution_count": 69,
   "metadata": {},
   "outputs": [],
   "source": [
    "read_data = pd.read_csv(\"AB_test_data.csv\")"
   ]
  },
  {
   "cell_type": "code",
   "execution_count": 70,
   "metadata": {},
   "outputs": [
    {
     "data": {
      "text/html": [
       "<div>\n",
       "<style scoped>\n",
       "    .dataframe tbody tr th:only-of-type {\n",
       "        vertical-align: middle;\n",
       "    }\n",
       "\n",
       "    .dataframe tbody tr th {\n",
       "        vertical-align: top;\n",
       "    }\n",
       "\n",
       "    .dataframe thead th {\n",
       "        text-align: right;\n",
       "    }\n",
       "</style>\n",
       "<table border=\"1\" class=\"dataframe\">\n",
       "  <thead>\n",
       "    <tr style=\"text-align: right;\">\n",
       "      <th></th>\n",
       "      <th>purchase_TF</th>\n",
       "      <th>Variant</th>\n",
       "      <th>date</th>\n",
       "      <th>id</th>\n",
       "    </tr>\n",
       "  </thead>\n",
       "  <tbody>\n",
       "    <tr>\n",
       "      <th>0</th>\n",
       "      <td>False</td>\n",
       "      <td>A</td>\n",
       "      <td>2019-11-08</td>\n",
       "      <td>0x25b44a</td>\n",
       "    </tr>\n",
       "    <tr>\n",
       "      <th>1</th>\n",
       "      <td>False</td>\n",
       "      <td>B</td>\n",
       "      <td>2020-08-27</td>\n",
       "      <td>0x46271e</td>\n",
       "    </tr>\n",
       "    <tr>\n",
       "      <th>2</th>\n",
       "      <td>False</td>\n",
       "      <td>A</td>\n",
       "      <td>2020-06-11</td>\n",
       "      <td>0x80b8f1</td>\n",
       "    </tr>\n",
       "    <tr>\n",
       "      <th>3</th>\n",
       "      <td>False</td>\n",
       "      <td>B</td>\n",
       "      <td>2020-08-22</td>\n",
       "      <td>0x8d736d</td>\n",
       "    </tr>\n",
       "    <tr>\n",
       "      <th>4</th>\n",
       "      <td>False</td>\n",
       "      <td>A</td>\n",
       "      <td>2020-08-05</td>\n",
       "      <td>0x96c9c8</td>\n",
       "    </tr>\n",
       "    <tr>\n",
       "      <th>...</th>\n",
       "      <td>...</td>\n",
       "      <td>...</td>\n",
       "      <td>...</td>\n",
       "      <td>...</td>\n",
       "    </tr>\n",
       "    <tr>\n",
       "      <th>129995</th>\n",
       "      <td>False</td>\n",
       "      <td>A</td>\n",
       "      <td>2020-07-23</td>\n",
       "      <td>0x4089c2</td>\n",
       "    </tr>\n",
       "    <tr>\n",
       "      <th>129996</th>\n",
       "      <td>False</td>\n",
       "      <td>A</td>\n",
       "      <td>2020-06-24</td>\n",
       "      <td>0x6a5e3a</td>\n",
       "    </tr>\n",
       "    <tr>\n",
       "      <th>129997</th>\n",
       "      <td>False</td>\n",
       "      <td>A</td>\n",
       "      <td>2019-10-12</td>\n",
       "      <td>0x95e302</td>\n",
       "    </tr>\n",
       "    <tr>\n",
       "      <th>129998</th>\n",
       "      <td>False</td>\n",
       "      <td>A</td>\n",
       "      <td>2020-03-18</td>\n",
       "      <td>0x7c4afa</td>\n",
       "    </tr>\n",
       "    <tr>\n",
       "      <th>129999</th>\n",
       "      <td>False</td>\n",
       "      <td>A</td>\n",
       "      <td>2019-12-09</td>\n",
       "      <td>0x380071</td>\n",
       "    </tr>\n",
       "  </tbody>\n",
       "</table>\n",
       "<p>130000 rows × 4 columns</p>\n",
       "</div>"
      ],
      "text/plain": [
       "        purchase_TF Variant        date        id\n",
       "0             False       A  2019-11-08  0x25b44a\n",
       "1             False       B  2020-08-27  0x46271e\n",
       "2             False       A  2020-06-11  0x80b8f1\n",
       "3             False       B  2020-08-22  0x8d736d\n",
       "4             False       A  2020-08-05  0x96c9c8\n",
       "...             ...     ...         ...       ...\n",
       "129995        False       A  2020-07-23  0x4089c2\n",
       "129996        False       A  2020-06-24  0x6a5e3a\n",
       "129997        False       A  2019-10-12  0x95e302\n",
       "129998        False       A  2020-03-18  0x7c4afa\n",
       "129999        False       A  2019-12-09  0x380071\n",
       "\n",
       "[130000 rows x 4 columns]"
      ]
     },
     "execution_count": 70,
     "metadata": {},
     "output_type": "execute_result"
    }
   ],
   "source": [
    "read_data"
   ]
  },
  {
   "cell_type": "code",
   "execution_count": 71,
   "metadata": {},
   "outputs": [],
   "source": [
    "A = read_data[read_data['Variant']=='A']\n",
    "B = read_data[read_data['Variant']=='B']"
   ]
  },
  {
   "cell_type": "code",
   "execution_count": 72,
   "metadata": {},
   "outputs": [
    {
     "data": {
      "text/html": [
       "<div>\n",
       "<style scoped>\n",
       "    .dataframe tbody tr th:only-of-type {\n",
       "        vertical-align: middle;\n",
       "    }\n",
       "\n",
       "    .dataframe tbody tr th {\n",
       "        vertical-align: top;\n",
       "    }\n",
       "\n",
       "    .dataframe thead th {\n",
       "        text-align: right;\n",
       "    }\n",
       "</style>\n",
       "<table border=\"1\" class=\"dataframe\">\n",
       "  <thead>\n",
       "    <tr style=\"text-align: right;\">\n",
       "      <th></th>\n",
       "      <th>purchase_TF</th>\n",
       "      <th>Variant</th>\n",
       "      <th>date</th>\n",
       "      <th>id</th>\n",
       "    </tr>\n",
       "  </thead>\n",
       "  <tbody>\n",
       "    <tr>\n",
       "      <th>0</th>\n",
       "      <td>False</td>\n",
       "      <td>A</td>\n",
       "      <td>2019-11-08</td>\n",
       "      <td>0x25b44a</td>\n",
       "    </tr>\n",
       "    <tr>\n",
       "      <th>2</th>\n",
       "      <td>False</td>\n",
       "      <td>A</td>\n",
       "      <td>2020-06-11</td>\n",
       "      <td>0x80b8f1</td>\n",
       "    </tr>\n",
       "    <tr>\n",
       "      <th>4</th>\n",
       "      <td>False</td>\n",
       "      <td>A</td>\n",
       "      <td>2020-08-05</td>\n",
       "      <td>0x96c9c8</td>\n",
       "    </tr>\n",
       "    <tr>\n",
       "      <th>5</th>\n",
       "      <td>False</td>\n",
       "      <td>A</td>\n",
       "      <td>2020-03-10</td>\n",
       "      <td>0x751c24</td>\n",
       "    </tr>\n",
       "    <tr>\n",
       "      <th>6</th>\n",
       "      <td>False</td>\n",
       "      <td>A</td>\n",
       "      <td>2019-11-05</td>\n",
       "      <td>0x60d2bd</td>\n",
       "    </tr>\n",
       "    <tr>\n",
       "      <th>...</th>\n",
       "      <td>...</td>\n",
       "      <td>...</td>\n",
       "      <td>...</td>\n",
       "      <td>...</td>\n",
       "    </tr>\n",
       "    <tr>\n",
       "      <th>129995</th>\n",
       "      <td>False</td>\n",
       "      <td>A</td>\n",
       "      <td>2020-07-23</td>\n",
       "      <td>0x4089c2</td>\n",
       "    </tr>\n",
       "    <tr>\n",
       "      <th>129996</th>\n",
       "      <td>False</td>\n",
       "      <td>A</td>\n",
       "      <td>2020-06-24</td>\n",
       "      <td>0x6a5e3a</td>\n",
       "    </tr>\n",
       "    <tr>\n",
       "      <th>129997</th>\n",
       "      <td>False</td>\n",
       "      <td>A</td>\n",
       "      <td>2019-10-12</td>\n",
       "      <td>0x95e302</td>\n",
       "    </tr>\n",
       "    <tr>\n",
       "      <th>129998</th>\n",
       "      <td>False</td>\n",
       "      <td>A</td>\n",
       "      <td>2020-03-18</td>\n",
       "      <td>0x7c4afa</td>\n",
       "    </tr>\n",
       "    <tr>\n",
       "      <th>129999</th>\n",
       "      <td>False</td>\n",
       "      <td>A</td>\n",
       "      <td>2019-12-09</td>\n",
       "      <td>0x380071</td>\n",
       "    </tr>\n",
       "  </tbody>\n",
       "</table>\n",
       "<p>125000 rows × 4 columns</p>\n",
       "</div>"
      ],
      "text/plain": [
       "        purchase_TF Variant        date        id\n",
       "0             False       A  2019-11-08  0x25b44a\n",
       "2             False       A  2020-06-11  0x80b8f1\n",
       "4             False       A  2020-08-05  0x96c9c8\n",
       "5             False       A  2020-03-10  0x751c24\n",
       "6             False       A  2019-11-05  0x60d2bd\n",
       "...             ...     ...         ...       ...\n",
       "129995        False       A  2020-07-23  0x4089c2\n",
       "129996        False       A  2020-06-24  0x6a5e3a\n",
       "129997        False       A  2019-10-12  0x95e302\n",
       "129998        False       A  2020-03-18  0x7c4afa\n",
       "129999        False       A  2019-12-09  0x380071\n",
       "\n",
       "[125000 rows x 4 columns]"
      ]
     },
     "execution_count": 72,
     "metadata": {},
     "output_type": "execute_result"
    }
   ],
   "source": [
    "A"
   ]
  },
  {
   "cell_type": "code",
   "execution_count": 73,
   "metadata": {},
   "outputs": [
    {
     "data": {
      "text/html": [
       "<div>\n",
       "<style scoped>\n",
       "    .dataframe tbody tr th:only-of-type {\n",
       "        vertical-align: middle;\n",
       "    }\n",
       "\n",
       "    .dataframe tbody tr th {\n",
       "        vertical-align: top;\n",
       "    }\n",
       "\n",
       "    .dataframe thead th {\n",
       "        text-align: right;\n",
       "    }\n",
       "</style>\n",
       "<table border=\"1\" class=\"dataframe\">\n",
       "  <thead>\n",
       "    <tr style=\"text-align: right;\">\n",
       "      <th></th>\n",
       "      <th>purchase_TF</th>\n",
       "      <th>Variant</th>\n",
       "      <th>date</th>\n",
       "      <th>id</th>\n",
       "    </tr>\n",
       "  </thead>\n",
       "  <tbody>\n",
       "    <tr>\n",
       "      <th>1</th>\n",
       "      <td>False</td>\n",
       "      <td>B</td>\n",
       "      <td>2020-08-27</td>\n",
       "      <td>0x46271e</td>\n",
       "    </tr>\n",
       "    <tr>\n",
       "      <th>3</th>\n",
       "      <td>False</td>\n",
       "      <td>B</td>\n",
       "      <td>2020-08-22</td>\n",
       "      <td>0x8d736d</td>\n",
       "    </tr>\n",
       "    <tr>\n",
       "      <th>59</th>\n",
       "      <td>False</td>\n",
       "      <td>B</td>\n",
       "      <td>2020-08-19</td>\n",
       "      <td>0x3ff83f</td>\n",
       "    </tr>\n",
       "    <tr>\n",
       "      <th>74</th>\n",
       "      <td>False</td>\n",
       "      <td>B</td>\n",
       "      <td>2020-08-10</td>\n",
       "      <td>0x138d19</td>\n",
       "    </tr>\n",
       "    <tr>\n",
       "      <th>103</th>\n",
       "      <td>False</td>\n",
       "      <td>B</td>\n",
       "      <td>2020-08-04</td>\n",
       "      <td>0x966e6a</td>\n",
       "    </tr>\n",
       "    <tr>\n",
       "      <th>...</th>\n",
       "      <td>...</td>\n",
       "      <td>...</td>\n",
       "      <td>...</td>\n",
       "      <td>...</td>\n",
       "    </tr>\n",
       "    <tr>\n",
       "      <th>129805</th>\n",
       "      <td>False</td>\n",
       "      <td>B</td>\n",
       "      <td>2020-08-27</td>\n",
       "      <td>0x7d95d0</td>\n",
       "    </tr>\n",
       "    <tr>\n",
       "      <th>129827</th>\n",
       "      <td>False</td>\n",
       "      <td>B</td>\n",
       "      <td>2020-08-10</td>\n",
       "      <td>0x38a6e8</td>\n",
       "    </tr>\n",
       "    <tr>\n",
       "      <th>129879</th>\n",
       "      <td>False</td>\n",
       "      <td>B</td>\n",
       "      <td>2020-08-30</td>\n",
       "      <td>0x6a711a</td>\n",
       "    </tr>\n",
       "    <tr>\n",
       "      <th>129910</th>\n",
       "      <td>False</td>\n",
       "      <td>B</td>\n",
       "      <td>2020-08-13</td>\n",
       "      <td>0x13175a</td>\n",
       "    </tr>\n",
       "    <tr>\n",
       "      <th>129960</th>\n",
       "      <td>False</td>\n",
       "      <td>B</td>\n",
       "      <td>2020-08-02</td>\n",
       "      <td>0x8d0674</td>\n",
       "    </tr>\n",
       "  </tbody>\n",
       "</table>\n",
       "<p>5000 rows × 4 columns</p>\n",
       "</div>"
      ],
      "text/plain": [
       "        purchase_TF Variant        date        id\n",
       "1             False       B  2020-08-27  0x46271e\n",
       "3             False       B  2020-08-22  0x8d736d\n",
       "59            False       B  2020-08-19  0x3ff83f\n",
       "74            False       B  2020-08-10  0x138d19\n",
       "103           False       B  2020-08-04  0x966e6a\n",
       "...             ...     ...         ...       ...\n",
       "129805        False       B  2020-08-27  0x7d95d0\n",
       "129827        False       B  2020-08-10  0x38a6e8\n",
       "129879        False       B  2020-08-30  0x6a711a\n",
       "129910        False       B  2020-08-13  0x13175a\n",
       "129960        False       B  2020-08-02  0x8d0674\n",
       "\n",
       "[5000 rows x 4 columns]"
      ]
     },
     "execution_count": 73,
     "metadata": {},
     "output_type": "execute_result"
    }
   ],
   "source": [
    "B"
   ]
  },
  {
   "cell_type": "markdown",
   "metadata": {},
   "source": [
    "## Count number of variants"
   ]
  },
  {
   "cell_type": "code",
   "execution_count": 74,
   "metadata": {},
   "outputs": [
    {
     "name": "stdout",
     "output_type": "stream",
     "text": [
      "n_A: 125000\n",
      "n_B: 5000\n"
     ]
    }
   ],
   "source": [
    "n_A = A.shape[0]\n",
    "n_B = B.shape[0]\n",
    "\n",
    "print(\"{} {}\".format('n_A:',n_A)) \n",
    "print(\"{} {}\".format('n_B:',n_B))"
   ]
  },
  {
   "cell_type": "markdown",
   "metadata": {},
   "source": [
    "## Calculate p_A and p_B"
   ]
  },
  {
   "cell_type": "code",
   "execution_count": 75,
   "metadata": {},
   "outputs": [
    {
     "name": "stdout",
     "output_type": "stream",
     "text": [
      "p_A: 0.149616\n",
      "p_B: 0.1766\n"
     ]
    }
   ],
   "source": [
    "p_A = A[A['purchase_TF'] == True].shape[0] / A.shape[0]\n",
    "p_B = B[B['purchase_TF'] == True].shape[0] / B.shape[0]\n",
    "\n",
    "print(\"{} {}\".format('p_A:',p_A)) \n",
    "print(\"{} {}\".format('p_B:',p_B))"
   ]
  },
  {
   "cell_type": "markdown",
   "metadata": {},
   "source": [
    "# Part 1: A/B test"
   ]
  },
  {
   "cell_type": "markdown",
   "metadata": {},
   "source": [
    "### H0: p_B=p_A\n",
    "\n",
    "### Ha: p_B>p_A"
   ]
  },
  {
   "cell_type": "code",
   "execution_count": 76,
   "metadata": {},
   "outputs": [
    {
     "name": "stdout",
     "output_type": "stream",
     "text": [
      "z-score is 5.0037.>1.64 , Reject null hypothesis. Alternative B improved conversion rates\n"
     ]
    }
   ],
   "source": [
    "z = (p_B-p_A)/math.sqrt((p_B*(1-p_B)/n_B))\n",
    "\n",
    "if z >= 1.64:\n",
    "    print('z-score is %.4f.>1.64 , Reject null hypothesis. Alternative B improved conversion rates' % (z))\n",
    "else: \n",
    "    print('z-score is %.4f.>1.64 , Fail to reject null hypothesis. Alternative B did not improve conversion rates'% (z))\n",
    "  "
   ]
  },
  {
   "cell_type": "markdown",
   "metadata": {},
   "source": [
    "# Part 2: Calculate optimal sample size"
   ]
  },
  {
   "cell_type": "code",
   "execution_count": 77,
   "metadata": {},
   "outputs": [],
   "source": [
    "import scipy.stats as st"
   ]
  },
  {
   "cell_type": "code",
   "execution_count": 78,
   "metadata": {},
   "outputs": [
    {
     "data": {
      "text/plain": [
       "2942"
      ]
     },
     "execution_count": 78,
     "metadata": {},
     "output_type": "execute_result"
    }
   ],
   "source": [
    "alpha = 0.05\n",
    "beta = 0.2\n",
    "pbar = (p_A + p_B) / 2\n",
    "delta = p_B - p_A\n",
    "\n",
    "t_0025 = st.norm.ppf(.975)\n",
    "t_02 = st.norm.ppf(.8)\n",
    "\n",
    "#use formula given in class to calculate optimal sample size\n",
    "n_optimal = ((t_0025 * math.sqrt(2*pbar*(1 - pbar)) + t_02*math.sqrt((p_A)*(1-p_A)+p_B*(1-p_B)))**2)/(delta**2)\n",
    "n_opt = int(round(n_optimal))\n",
    "n_opt"
   ]
  },
  {
   "cell_type": "markdown",
   "metadata": {},
   "source": [
    "<b>We choose the optimal sample size to be 2942.</b>"
   ]
  },
  {
   "cell_type": "markdown",
   "metadata": {},
   "source": [
    "# Part 3: Conduct A/B Test 10 times"
   ]
  },
  {
   "cell_type": "markdown",
   "metadata": {},
   "source": [
    "### H0: p_hat=p_A\n",
    "\n",
    "### Ha: p_hat>p_A"
   ]
  },
  {
   "cell_type": "code",
   "execution_count": 79,
   "metadata": {},
   "outputs": [],
   "source": [
    "import math"
   ]
  },
  {
   "cell_type": "code",
   "execution_count": 80,
   "metadata": {},
   "outputs": [
    {
     "name": "stdout",
     "output_type": "stream",
     "text": [
      "Out of 10 tests, 10 showed significant difference to support that Variant B performs better in improving conversion rate.\n"
     ]
    }
   ],
   "source": [
    "success = []\n",
    "samples = []\n",
    "n=1\n",
    "#p_A=0.149616\n",
    "\n",
    "#iterate 10 times to get conduct A/B test 10 times\n",
    "while n < 11:    \n",
    "    #randomly select optimal number of samples from variant B\n",
    "    new_sample = B.sample(n=n_opt)\n",
    "    \n",
    "    #append samples of 2942 for each iteration\n",
    "    samples.append(new_sample.reset_index())\n",
    "    \n",
    "    new_success = new_sample['purchase_TF'].sum()\n",
    "    \n",
    "    #calculate new p_hat every iteration\n",
    "    p_hat = new_success/n_opt\n",
    "    \n",
    "    #z-score\n",
    "    z = (p_hat-p_A)/math.sqrt((p_A*(1-p_A)/n_opt))\n",
    "    \n",
    "    if z >= 1.64:\n",
    "        success.append(1)\n",
    "    else: \n",
    "        success.append(0)\n",
    "    n+=1\n",
    "\n",
    "print(\"Out of 10 tests, {} showed significant difference to support that Variant B performs better in improving conversion rate.\".format(sum(success)))"
   ]
  },
  {
   "cell_type": "markdown",
   "metadata": {},
   "source": [
    "<b>There is enough evidence to support that Variant B (with walkability assessment) is effective in improving conversion rate.</b>"
   ]
  },
  {
   "cell_type": "markdown",
   "metadata": {},
   "source": [
    "# Part 4: Sequential Testing on same 10 samples"
   ]
  },
  {
   "cell_type": "code",
   "execution_count": 81,
   "metadata": {},
   "outputs": [],
   "source": [
    "import numpy as np"
   ]
  },
  {
   "cell_type": "code",
   "execution_count": 82,
   "metadata": {},
   "outputs": [],
   "source": [
    "fA_1 = p_A  #0.149616\n",
    "fA_0 = 1-p_A\n",
    "#fB_1 = p_B  #0.1766\n",
    "#fB_0 = 1-p_B\n",
    "\n",
    "#p[timal sample size\n",
    "n=n_opt\n",
    "\n",
    "A_bound = np.log(1/alpha)\n",
    "B_bound = np.log(beta)\n",
    "\n",
    "test_results = []\n",
    "iteration_length = []\n",
    "\n",
    "#use same 10 samples from A/B testing\n",
    "for sample in samples:\n",
    "    fB_1=sample['purchase_TF'].sum()/n\n",
    "    fB_0 = 1-fB_1\n",
    "    i = 0\n",
    "    iter_lambda = 0\n",
    "    while i < n:\n",
    "        if sample.purchase_TF[i] == True:\n",
    "            iter_lambda = iter_lambda + np.log(fB_1 / fA_1)\n",
    "        else:\n",
    "            iter_lambda = iter_lambda + np.log(fB_0 / fA_0)\n",
    "        \n",
    "        if iter_lambda <= B_bound:\n",
    "            iteration_length.append(i+1)\n",
    "            test_results.append(\"Fail to reject H0, number of trials: {}\".format(i+1))\n",
    "            break\n",
    "        elif iter_lambda >= A_bound:\n",
    "            iteration_length.append(i+1)\n",
    "            test_results.append(\"Reject H0, number of trials: {}\".format(i+1))\n",
    "            break\n",
    "        else:\n",
    "            i = i+1"
   ]
  },
  {
   "cell_type": "code",
   "execution_count": 83,
   "metadata": {},
   "outputs": [
    {
     "name": "stdout",
     "output_type": "stream",
     "text": [
      "[1203, 233, 1084, 589, 292, 305, 227, 987, 1161, 1762]\n"
     ]
    }
   ],
   "source": [
    "print(iteration_length)"
   ]
  },
  {
   "cell_type": "code",
   "execution_count": 84,
   "metadata": {},
   "outputs": [
    {
     "name": "stdout",
     "output_type": "stream",
     "text": [
      "784.3\n"
     ]
    }
   ],
   "source": [
    "avg_length = sum(iteration_length)/len(iteration_length)\n",
    "print(avg_length)"
   ]
  },
  {
   "cell_type": "code",
   "execution_count": 85,
   "metadata": {
    "scrolled": true
   },
   "outputs": [
    {
     "data": {
      "text/plain": [
       "['Reject H0, number of trials: 1203',\n",
       " 'Reject H0, number of trials: 233',\n",
       " 'Reject H0, number of trials: 1084',\n",
       " 'Reject H0, number of trials: 589',\n",
       " 'Reject H0, number of trials: 292',\n",
       " 'Reject H0, number of trials: 305',\n",
       " 'Reject H0, number of trials: 227',\n",
       " 'Reject H0, number of trials: 987',\n",
       " 'Reject H0, number of trials: 1161',\n",
       " 'Reject H0, number of trials: 1762']"
      ]
     },
     "execution_count": 85,
     "metadata": {},
     "output_type": "execute_result"
    }
   ],
   "source": [
    "test_results"
   ]
  },
  {
   "cell_type": "code",
   "execution_count": 86,
   "metadata": {},
   "outputs": [
    {
     "name": "stdout",
     "output_type": "stream",
     "text": [
      "We were able to stop all 10 tests prior to using the full sample. The average number of iterations required to stop the test is 784.\n"
     ]
    }
   ],
   "source": [
    "print(\"We were able to stop all 10 tests prior to using the full sample. The average number of iterations required to stop the test is %.0f.\" % (avg_length))"
   ]
  }
 ],
 "metadata": {
  "kernelspec": {
   "display_name": "Python 3",
   "language": "python",
   "name": "python3"
  },
  "language_info": {
   "codemirror_mode": {
    "name": "ipython",
    "version": 3
   },
   "file_extension": ".py",
   "mimetype": "text/x-python",
   "name": "python",
   "nbconvert_exporter": "python",
   "pygments_lexer": "ipython3",
   "version": "3.8.3"
  }
 },
 "nbformat": 4,
 "nbformat_minor": 4
}
